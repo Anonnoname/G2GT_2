{
 "cells": [
  {
   "cell_type": "code",
   "execution_count": 8,
   "id": "1cca8506-7a6b-4568-a5cc-ee51b7d97ce2",
   "metadata": {},
   "outputs": [
    {
     "name": "stdout",
     "output_type": "stream",
     "text": [
      "Error from server (NotFound): error when deleting \"g2gt.yaml\": jobs.batch \"g2gt-gen\" not found\n",
      "job.batch/g2gt-gen created\n"
     ]
    }
   ],
   "source": [
    "! kubectl delete -f g2gt.yaml\n",
    "! kubectl apply -f g2gt.yaml"
   ]
  },
  {
   "cell_type": "code",
   "execution_count": 9,
   "id": "58f26447-2d20-4850-93a4-f33aacb96f06",
   "metadata": {},
   "outputs": [
    {
     "name": "stdout",
     "output_type": "stream",
     "text": [
      "job.batch \"g2gt-gen\" deleted\n"
     ]
    }
   ],
   "source": [
    "! kubectl delete -f g2gt.yaml"
   ]
  },
  {
   "cell_type": "code",
   "execution_count": 10,
   "id": "5f4f7f28-01b8-4839-baa5-eeee27aec3bf",
   "metadata": {},
   "outputs": [
    {
     "name": "stdout",
     "output_type": "stream",
     "text": [
      "error: error parsing g2gt-ddp.yaml: error converting YAML to JSON: yaml: line 31: did not find expected key\n",
      "error: error parsing g2gt-ddp.yaml: error converting YAML to JSON: yaml: line 31: did not find expected key\n"
     ]
    }
   ],
   "source": [
    "! kubectl delete -f g2gt-ddp.yaml\n",
    "! kubectl apply -f g2gt-ddp.yaml"
   ]
  },
  {
   "cell_type": "code",
   "execution_count": 9,
   "id": "c6bf1f44-8a67-4a94-b138-8a281aba49af",
   "metadata": {},
   "outputs": [
    {
     "name": "stdout",
     "output_type": "stream",
     "text": [
      "Error from server (NotFound): pytorchjobs.kubeflow.org \"g2gt-ddp\" not found\n"
     ]
    }
   ],
   "source": [
    "! kubectl delete -n linzaiyun g2gt-ddp"
   ]
  },
  {
   "cell_type": "code",
   "execution_count": 53,
   "id": "aac3bd41-f0da-4c6e-abc7-27d55a4fe413",
   "metadata": {},
   "outputs": [
    {
     "name": "stdout",
     "output_type": "stream",
     "text": [
      "pytorchjob.kubeflow.org \"ddp-test\" deleted\n",
      "pytorchjob.kubeflow.org/ddp-test created\n"
     ]
    }
   ],
   "source": [
    "! kubectl delete -f ranzcr.yaml\n",
    "! kubectl apply -f ranzcr.yaml"
   ]
  },
  {
   "cell_type": "code",
   "execution_count": null,
   "id": "f2834524-541a-41a2-aa09-53d0e207b586",
   "metadata": {},
   "outputs": [],
   "source": [
    "! bash train.sh"
   ]
  },
  {
   "cell_type": "code",
   "execution_count": null,
   "id": "13986e99-8d9c-4586-af0e-dc555a95655d",
   "metadata": {},
   "outputs": [],
   "source": [
    "%env CUDA_LAUNCH_BLOCKING=1\n",
    "\n",
    "! bash inference.sh"
   ]
  },
  {
   "cell_type": "code",
   "execution_count": null,
   "id": "6ce55c3f-ef90-46be-b65a-43a497ff93f2",
   "metadata": {},
   "outputs": [],
   "source": []
  }
 ],
 "metadata": {
  "kernelspec": {
   "display_name": "Python 3 (ipykernel)",
   "language": "python",
   "name": "python3"
  },
  "language_info": {
   "codemirror_mode": {
    "name": "ipython",
    "version": 3
   },
   "file_extension": ".py",
   "mimetype": "text/x-python",
   "name": "python",
   "nbconvert_exporter": "python",
   "pygments_lexer": "ipython3",
   "version": "3.7.12"
  }
 },
 "nbformat": 4,
 "nbformat_minor": 5
}
